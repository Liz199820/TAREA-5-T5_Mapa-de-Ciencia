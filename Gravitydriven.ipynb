{
 "cells": [
  {
   "cell_type": "markdown",
   "id": "2680a89d",
   "metadata": {},
   "source": [
    "<img src=\"https://www.ikiam.edu.ec/img/logo-ikiam-grey.png\" width=400 height=300 />\n",
    "<center><h2> INGENIERÍA EN BIOTECNOLOGÍA</h2></center>\n",
    "<h1 style=\"color:purple\">GBI6 - BIOINFORMÁTICA</h1></center>\n",
    "<h1 style=\"color:black\">LIZETH GARCIA</h1></center>\n",
    "\n",
    "\n",
    "#  TAREA # 5 T5_Mapa-de-Ciencia\n",
    "\n"
   ]
  },
  {
   "cell_type": "markdown",
   "id": "8bc40a6c",
   "metadata": {},
   "source": []
  },
  {
   "cell_type": "code",
   "execution_count": 1,
   "id": "6b9840aa",
   "metadata": {},
   "outputs": [],
   "source": [
    "import re\n",
    "import csv\n",
    "import pandas as pd\n",
    "import matplotlib.pyplot as plt"
   ]
  },
  {
   "cell_type": "code",
   "execution_count": 23,
   "id": "eeeeb1a7",
   "metadata": {},
   "outputs": [
    {
     "name": "stdout",
     "output_type": "stream",
     "text": [
      "Paises:  ['Argentina', 'Australia', 'Austria', 'Bangladesh', 'Belgium', 'Brazil', 'Brunei', 'Canada', 'Chile', 'China', 'Colombia', 'Commun', 'Denmark', 'Egypt', 'Estonia', 'Finland', 'France', 'Georgia', 'Germany', 'Greece', 'Hungary', 'Iceland', 'India', 'Indonesia', 'Iran', 'Ireland', 'Israel', 'Italy', 'Japan', 'Korea', 'Luxembourg', 'Malaysia', 'Maryland', 'Michigan', 'Monaco', 'Nepal', 'Netherlands', 'Nigeria', 'Norway', 'Pakistan', 'Poland', 'Qatar', 'Russia', 'Singapore', 'Spain', 'Sweden', 'Switzerland', 'Taiwan', 'Thailand', 'Turkey', 'USA', 'Uruguay', 'Vietnam']\n"
     ]
    }
   ],
   "source": [
    "with open('pubmed-gravitydri-set.txt',\"r\", encoding='utf-8-sig') as f:\n",
    "    word = f.read()\n",
    "\n",
    "word = re.sub(r'\\n\\s{6}', ' ', word)\n",
    "\n",
    "wrd = re.findall (r\"\\,\\s[A-Z]+[A-z]{2,11}\\.\", word)\n",
    "unique_wrd = list(set(wrd))\n",
    "unique_wrd.sort ()\n",
    "\n",
    "unique_wrd.remove(\", Inc.\")\n",
    "unique_wrd.remove(\", California.\")\n",
    "unique_wrd.remove(\", Fla.\")\n",
    "unique_wrd.remove(\", Ltd.\")\n",
    "unique_wrd.remove(\", Wash.\")\n",
    "unique_wrd.remove(\", Basel.\")\n",
    "unique_wrd.remove(\", Beijing.\")\n",
    "unique_wrd.remove(\", Butenandtstr.\")\n",
    "unique_wrd.remove(\", Univ.\")\n",
    "unique_wrd.remove(\", Phys.\")\n",
    "unique_wrd.remove(\", Weinheim.\")\n",
    "\n",
    "a = \"\".join(unique_dat)\n",
    "b = a.split(\", \")\n",
    "c = \"\".join(b)\n",
    "From = c.split(\".\")\n",
    "From.remove(\"\")\n",
    "print(\"Paises: \", From)"
   ]
  },
  {
   "cell_type": "code",
   "execution_count": 24,
   "id": "377ba5f2",
   "metadata": {},
   "outputs": [
    {
     "data": {
      "text/plain": [
       "53"
      ]
     },
     "execution_count": 24,
     "metadata": {},
     "output_type": "execute_result"
    }
   ],
   "source": [
    "len (From)"
   ]
  },
  {
   "cell_type": "code",
   "execution_count": null,
   "id": "f8278f9d",
   "metadata": {},
   "outputs": [],
   "source": []
  }
 ],
 "metadata": {
  "kernelspec": {
   "display_name": "Python 3",
   "language": "python",
   "name": "python3"
  },
  "language_info": {
   "codemirror_mode": {
    "name": "ipython",
    "version": 3
   },
   "file_extension": ".py",
   "mimetype": "text/x-python",
   "name": "python",
   "nbconvert_exporter": "python",
   "pygments_lexer": "ipython3",
   "version": "3.8.8"
  }
 },
 "nbformat": 4,
 "nbformat_minor": 5
}
