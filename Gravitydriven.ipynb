{
 "cells": [
  {
   "cell_type": "markdown",
   "id": "2680a89d",
   "metadata": {},
   "source": [
    "<img src=\"https://www.ikiam.edu.ec/img/logo-ikiam-grey.png\" width=400 height=300 />\n",
    "### <center><h2> INGENIERÍA EN BIOTECNOLOGÍA</h2></center>\n",
    "# <center><h1 style=\"color:purple\">GBI6 - BIOINFORMÁTICA</h1></center>\n",
    "# <center><h1 style=\"color:black\">LIZETH GARCIA</h1></center>\n",
    "\n",
    "\n",
    "#  TAREA # 5 T5_Mapa-de-Ciencia\n",
    "\n"
   ]
  },
  {
   "cell_type": "markdown",
   "id": "8bc40a6c",
   "metadata": {},
   "source": []
  },
  {
   "cell_type": "code",
   "execution_count": null,
   "id": "740aceac",
   "metadata": {},
   "outputs": [],
   "source": []
  }
 ],
 "metadata": {
  "kernelspec": {
   "display_name": "Python 3",
   "language": "python",
   "name": "python3"
  },
  "language_info": {
   "codemirror_mode": {
    "name": "ipython",
    "version": 3
   },
   "file_extension": ".py",
   "mimetype": "text/x-python",
   "name": "python",
   "nbconvert_exporter": "python",
   "pygments_lexer": "ipython3",
   "version": "3.8.8"
  }
 },
 "nbformat": 4,
 "nbformat_minor": 5
}
